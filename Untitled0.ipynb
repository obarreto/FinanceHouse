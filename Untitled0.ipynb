{
  "nbformat": 4,
  "nbformat_minor": 0,
  "metadata": {
    "colab": {
      "provenance": [],
      "authorship_tag": "ABX9TyPH+WimX6PraEhvKl4S6Viv",
      "include_colab_link": true
    },
    "kernelspec": {
      "name": "python3",
      "display_name": "Python 3"
    },
    "language_info": {
      "name": "python"
    }
  },
  "cells": [
    {
      "cell_type": "markdown",
      "metadata": {
        "id": "view-in-github",
        "colab_type": "text"
      },
      "source": [
        "<a href=\"https://colab.research.google.com/github/obarreto/FinanceHouse/blob/main/Untitled0.ipynb\" target=\"_parent\"><img src=\"https://colab.research.google.com/assets/colab-badge.svg\" alt=\"Open In Colab\"/></a>"
      ]
    },
    {
      "cell_type": "code",
      "execution_count": 8,
      "metadata": {
        "id": "Vz5OjoLOk4WG"
      },
      "outputs": [],
      "source": [
        "# prompt: mascara boolena\n",
        "\n",
        "def mascara_booleana(valor):\n",
        "  return \"Verdadeiro\" if valor else \"Falso\"\n"
      ]
    },
    {
      "cell_type": "code",
      "source": [
        "# prompt: me mostre um exemplo\n",
        "\n",
        "valor = True\n",
        "print(valor)\n"
      ],
      "metadata": {
        "colab": {
          "base_uri": "https://localhost:8080/"
        },
        "id": "7rU3CoMrm59V",
        "outputId": "14f4f676-e884-4a7a-d606-3482c98bbb72"
      },
      "execution_count": 9,
      "outputs": [
        {
          "output_type": "stream",
          "name": "stdout",
          "text": [
            "True\n"
          ]
        }
      ]
    },
    {
      "cell_type": "code",
      "source": [
        "print(mascara_booleana(True))"
      ],
      "metadata": {
        "colab": {
          "base_uri": "https://localhost:8080/"
        },
        "id": "FwBhUEuNoBv2",
        "outputId": "d1f7374e-be66-4b60-c661-d456e3933535"
      },
      "execution_count": 10,
      "outputs": [
        {
          "output_type": "stream",
          "name": "stdout",
          "text": [
            "Verdadeiro\n"
          ]
        }
      ]
    },
    {
      "cell_type": "markdown",
      "source": [
        "git diff mostra exatamente as linha que forma modificadas"
      ],
      "metadata": {
        "id": "F4075tPGo56N"
      }
    }
  ]
}