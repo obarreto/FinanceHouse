{
  "nbformat": 4,
  "nbformat_minor": 0,
  "metadata": {
    "colab": {
      "provenance": [],
      "authorship_tag": "ABX9TyMctlt0dxYILLCNyN9NKqE2",
      "include_colab_link": true
    },
    "kernelspec": {
      "name": "python3",
      "display_name": "Python 3"
    },
    "language_info": {
      "name": "python"
    }
  },
  "cells": [
    {
      "cell_type": "markdown",
      "metadata": {
        "id": "view-in-github",
        "colab_type": "text"
      },
      "source": [
        "<a href=\"https://colab.research.google.com/github/obarreto/FinanceHouse/blob/main/Untitled0.ipynb\" target=\"_parent\"><img src=\"https://colab.research.google.com/assets/colab-badge.svg\" alt=\"Open In Colab\"/></a>"
      ]
    },
    {
      "cell_type": "code",
      "execution_count": 8,
      "metadata": {
        "id": "Vz5OjoLOk4WG"
      },
      "outputs": [],
      "source": [
        "# prompt: mascara boolena\n",
        "\n",
        "def mascara_booleana(valor):\n",
        "  return \"Verdadeiro\" if valor else \"Falso\"\n"
      ]
    },
    {
      "cell_type": "code",
      "source": [
        "# prompt: me mostre um exemplo\n",
        "\n",
        "valor = True\n",
        "print(valor)\n"
      ],
      "metadata": {
        "colab": {
          "base_uri": "https://localhost:8080/"
        },
        "id": "7rU3CoMrm59V",
        "outputId": "14f4f676-e884-4a7a-d606-3482c98bbb72"
      },
      "execution_count": 9,
      "outputs": [
        {
          "output_type": "stream",
          "name": "stdout",
          "text": [
            "True\n"
          ]
        }
      ]
    },
    {
      "cell_type": "code",
      "source": [
        "print(mascara_booleana(True))"
      ],
      "metadata": {
        "colab": {
          "base_uri": "https://localhost:8080/"
        },
        "id": "FwBhUEuNoBv2",
        "outputId": "d1f7374e-be66-4b60-c661-d456e3933535"
      },
      "execution_count": 10,
      "outputs": [
        {
          "output_type": "stream",
          "name": "stdout",
          "text": [
            "Verdadeiro\n"
          ]
        }
      ]
    },
    {
      "cell_type": "markdown",
      "source": [
        "git diff mostra exatamente as linha que forma modificadas\n",
        "\n",
        "git diff --staged\n"
      ],
      "metadata": {
        "id": "F4075tPGo56N"
      }
    },
    {
      "cell_type": "code",
      "source": [
        "git log, traz o historico dos commits feitos ate agora"
      ],
      "metadata": {
        "colab": {
          "base_uri": "https://localhost:8080/",
          "height": 106
        },
        "id": "YfFEzWMfp5Dm",
        "outputId": "bd5cd438-b82e-4248-a785-14912d9ad10e"
      },
      "execution_count": null,
      "outputs": [
        {
          "output_type": "error",
          "ename": "SyntaxError",
          "evalue": "invalid syntax (<ipython-input-11-4b87973a8f35>, line 1)",
          "traceback": [
            "\u001b[0;36m  File \u001b[0;32m\"<ipython-input-11-4b87973a8f35>\"\u001b[0;36m, line \u001b[0;32m1\u001b[0m\n\u001b[0;31m    git log, traz o historico dos commits feitos ate agora\u001b[0m\n\u001b[0m        ^\u001b[0m\n\u001b[0;31mSyntaxError\u001b[0m\u001b[0;31m:\u001b[0m invalid syntax\n"
          ]
        }
      ]
    },
    {
      "cell_type": "code",
      "source": [],
      "metadata": {
        "id": "q7u6A1q-qzQT"
      },
      "execution_count": null,
      "outputs": []
    },
    {
      "cell_type": "markdown",
      "source": [
        "* uso do coamdno restore, retornar a mudança\n",
        "git restore --staged arquivo.txt // removendo para area staged e vai para modified\n",
        "\n",
        "git retore arquivo.txt // removendo para modified, volta para para como era antes ou para forma original que foi clonado, unmodified.\n"
      ],
      "metadata": {
        "id": "aDP6u8rwrASC"
      }
    },
    {
      "cell_type": "markdown",
      "source": [
        "##Salvando alterações no git\n",
        "* comando git push\n",
        "git add .\\arquivo.txt\n",
        "git commit -m \"add new document\"\n",
        "\n",
        "git remote\n",
        "origin - repositorio remoto\n",
        "git push origin master\n"
      ],
      "metadata": {
        "id": "TniRJ7easg8F"
      }
    }
  ]
}